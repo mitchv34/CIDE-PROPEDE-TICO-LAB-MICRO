{
 "cells": [
  {
   "cell_type": "code",
   "execution_count": 2,
   "metadata": {
    "init_cell": true,
    "slideshow": {
     "slide_type": "skip"
    }
   },
   "outputs": [],
   "source": [
    "from matplotlib import pyplot as plt\n",
    "import matplotlib.animation as animation\n",
    "import numpy as np\n",
    "import pylab\n",
    "from pylab import arange,pi,sin,cos,sqrt\n",
    "from ipywidgets import interactive, interact_manual, widgets\n",
    "import warnings\n",
    "warnings.filterwarnings('ignore')\n",
    "from parameters_plots import *\n",
    "\n",
    "pylab.rcParams.update(params)"
   ]
  },
  {
   "cell_type": "markdown",
   "metadata": {
    "slideshow": {
     "slide_type": "slide"
    }
   },
   "source": [
    "# Laboratorio 2"
   ]
  },
  {
   "cell_type": "markdown",
   "metadata": {
    "slideshow": {
     "slide_type": "slide"
    }
   },
   "source": [
    "## Problema 1.\n",
    "\n",
    "Tres amigos, Agustín $(A),$ Bruno $(B)$ y Carlos $(C)$ se encuentran a cenar y deben decidir qué hacer por el resto de la noche. Agustín quiere ir a una fiesta electrónica en la Zona Rosa $(x)$. Bruno prefiere un lugar más tranquilo, quisiera que fueran a un bar en la Condesa ( $y$ ). Carlos quiere navegar el domingo $(z),$ por lo que prefiere volver a dormir apenas terminada la cena. Ante las opciones disponibles cada uno expresa su orden de preferencias:"
   ]
  },
  {
   "cell_type": "markdown",
   "metadata": {
    "slideshow": {
     "slide_type": "subslide"
    }
   },
   "source": [
    "$$\n",
    "\\text{Agustin} \\qquad : \\quad\n",
    "x \\succ_{a} y \\succ_{a} z\n",
    "$$\n",
    "\n",
    "$$\n",
    "\\text{Bruno} \\qquad : \\quad\n",
    "y \\succ_{b} z \\succ_{b} x\n",
    "$$\n",
    "\n",
    "$$\n",
    "\\text{Carlos} \\qquad : \\quad\n",
    "z \\succ_{c} x \\succ_{c} y\n",
    "$$"
   ]
  },
  {
   "cell_type": "markdown",
   "metadata": {
    "slideshow": {
     "slide_type": "subslide"
    }
   },
   "source": [
    "Note que las preferencias de cada uno de ellos son racionales, y en particular\n",
    "$\\succ_{k} \\forall k=a, b, c$ son relaciones de preferencias transitivas para cada individuo. Para decidir entre las opciones deciden realizar la siguiente votación:"
   ]
  },
  {
   "cell_type": "markdown",
   "metadata": {
    "slideshow": {
     "slide_type": "subslide"
    }
   },
   "source": [
    "### Parte a\n",
    "Carlos propone que voten primero entre $x$ e $y$ y luego entre la opción ganadora y $z$ ¿Qué opción es la preferida en la primera y en la segunda votación?"
   ]
  },
  {
   "cell_type": "markdown",
   "metadata": {
    "cell_style": "split",
    "slideshow": {
     "slide_type": "subslide"
    }
   },
   "source": [
    "Recordemos las preferencias de cada uno:\n",
    "\n",
    "$$\n",
    "\\text{Agustin} \\qquad : \\quad\n",
    "x \\succ_{a} y \\succ_{a} z\n",
    "$$\n",
    "\n",
    "$$\n",
    "\\text{Bruno} \\qquad : \\quad\n",
    "y \\succ_{b} z \\succ_{b} x\n",
    "$$\n",
    "\n",
    "$$\n",
    "\\text{Carlos} \\qquad : \\quad\n",
    "z \\succ_{c} x \\succ_{c} y\n",
    "$$"
   ]
  },
  {
   "cell_type": "markdown",
   "metadata": {
    "cell_style": "split",
    "slideshow": {
     "slide_type": "fragment"
    }
   },
   "source": [
    "Votación entre  $x$  e  $y$:\n",
    "<center>\n",
    "    <table>\n",
    "        <thead>\n",
    "            <tr>\n",
    "                <th>Persona</th>\n",
    "                <th>$x$</th>\n",
    "                <th>$y$</th>\n",
    "            </tr>\n",
    "        </thead>\n",
    "        <tbody>\n",
    "            <tr>\n",
    "                <td>Agustin</td>\n",
    "                <td>&#x2611;</td>\n",
    "                <td></td>\n",
    "            </tr>\n",
    "            <tr>\n",
    "                <td>Bruno</td>\n",
    "                <td></td>\n",
    "                <td>&#x2611;</td>\n",
    "            </tr>\n",
    "            <tr>\n",
    "                <td>Carlos</td>\n",
    "                <td>&#x2611;</td>\n",
    "                <td></td>\n",
    "            </tr>\n",
    "            <tr>\n",
    "                <td>Total</td>\n",
    "                <td>2</td>\n",
    "                <td>1</td>\n",
    "            </tr>\n",
    "        </tbody>\n",
    "    </table>\n",
    "</center>\n",
    "\n",
    "El resultado de la primera ronda de voración es:\n",
    "\n",
    "$$\n",
    "x \\succ y\n",
    "$$"
   ]
  },
  {
   "cell_type": "markdown",
   "metadata": {
    "cell_style": "split",
    "slideshow": {
     "slide_type": "subslide"
    }
   },
   "source": [
    "$$\n",
    "\\text{Agustin} \\qquad : \\quad\n",
    "x \\succ_{a} y \\succ_{a} z\n",
    "$$\n",
    "\n",
    "$$\n",
    "\\text{Bruno} \\qquad : \\quad\n",
    "y \\succ_{b} z \\succ_{b} x\n",
    "$$\n",
    "\n",
    "$$\n",
    "\\text{Carlos} \\qquad : \\quad\n",
    "z \\succ_{c} x \\succ_{c} y\n",
    "$$"
   ]
  },
  {
   "cell_type": "markdown",
   "metadata": {
    "cell_style": "split",
    "slideshow": {
     "slide_type": "fragment"
    }
   },
   "source": [
    "Votación entre  $x$  y  $z$:\n",
    "<center>\n",
    "    <table>\n",
    "        <thead>\n",
    "            <tr>\n",
    "                <th>Persona</th>\n",
    "                <th>$x$</th>\n",
    "                <th>$y$</th>\n",
    "            </tr>\n",
    "        </thead>\n",
    "        <tbody>\n",
    "            <tr>\n",
    "                <td>Agustin</td>\n",
    "                <td>&#x2611;</td>\n",
    "                <td></td>\n",
    "            </tr>\n",
    "            <tr>\n",
    "                <td>Bruno</td>\n",
    "                <td></td>\n",
    "                <td>&#x2611;</td>\n",
    "            </tr>\n",
    "            <tr>\n",
    "                <td>Carlos</td>\n",
    "                <td></td>\n",
    "                <td>&#x2611;</td>\n",
    "            </tr>\n",
    "            <tr>\n",
    "                <td>Total</td>\n",
    "                <td>1</td>\n",
    "                <td>2</td>\n",
    "            </tr>\n",
    "        </tbody>\n",
    "    </table>\n",
    "</center>\n",
    "\n",
    "El resultado de la segunda ronda de voración es:\n",
    "\n",
    "$$\n",
    "z \\succ x\n",
    "$$"
   ]
  },
  {
   "cell_type": "markdown",
   "metadata": {
    "slideshow": {
     "slide_type": "subslide"
    }
   },
   "source": [
    "### Parte b\n",
    "Agustín piensa que el resultado no es aceptable y propone que se vote primero entre $z$ e $y$ y luego, la opción ganadora contra $x$. ¿Cuál es el resultado de la votación?"
   ]
  },
  {
   "cell_type": "markdown",
   "metadata": {
    "cell_style": "split",
    "slideshow": {
     "slide_type": "subslide"
    }
   },
   "source": [
    "$$\n",
    "\\text{Agustin} \\qquad : \\quad\n",
    "x \\succ_{a} y \\succ_{a} z\n",
    "$$\n",
    "\n",
    "$$\n",
    "\\text{Bruno} \\qquad : \\quad\n",
    "y \\succ_{b} z \\succ_{b} x\n",
    "$$\n",
    "\n",
    "$$\n",
    "\\text{Carlos} \\qquad : \\quad\n",
    "z \\succ_{c} x \\succ_{c} y\n",
    "$$\n",
    "\n",
    "Votación entre  $z$  e  $y$:\n",
    "<center>\n",
    "    <table>\n",
    "        <thead>\n",
    "            <tr>\n",
    "                <th>Persona</th>\n",
    "                <th>$z$</th>\n",
    "                <th>$y$</th>\n",
    "            </tr>\n",
    "        </thead>\n",
    "        <tbody>\n",
    "            <tr>\n",
    "                <td>Agustin</td>\n",
    "                <td></td>\n",
    "                <td>&#x2611;</td>\n",
    "            </tr>\n",
    "            <tr>\n",
    "                <td>Bruno</td>\n",
    "                <td></td>\n",
    "                <td>&#x2611;</td>\n",
    "            </tr>\n",
    "            <tr>\n",
    "                <td>Carlos</td>\n",
    "                <td>&#x2611;</td>\n",
    "                <td></td>\n",
    "            </tr>\n",
    "            <tr>\n",
    "                <td>Total</td>\n",
    "                <td>2</td>\n",
    "                <td>1</td>\n",
    "            </tr>\n",
    "        </tbody>\n",
    "    </table>\n",
    "</center>"
   ]
  },
  {
   "cell_type": "markdown",
   "metadata": {
    "cell_style": "split",
    "slideshow": {
     "slide_type": "fragment"
    }
   },
   "source": [
    "Votación entre  $x$  e  $y$:\n",
    "<center>\n",
    "    <table>\n",
    "        <thead>\n",
    "            <tr>\n",
    "                <th>Persona</th>\n",
    "                <th>$x$</th>\n",
    "                <th>$y$</th>\n",
    "            </tr>\n",
    "        </thead>\n",
    "        <tbody>\n",
    "            <tr>\n",
    "                <td>Agustin</td>\n",
    "                <td>&#x2611;</td>\n",
    "                <td></td>\n",
    "            </tr>\n",
    "            <tr>\n",
    "                <td>Bruno</td>\n",
    "                <td></td>\n",
    "                <td>&#x2611;</td>\n",
    "            </tr>\n",
    "            <tr>\n",
    "                <td>Carlos</td>\n",
    "                <td>&#x2611;</td>\n",
    "                <td></td>\n",
    "            </tr>\n",
    "            <tr>\n",
    "                <td>Total</td>\n",
    "                <td>2</td>\n",
    "                <td>1</td>\n",
    "            </tr>\n",
    "        </tbody>\n",
    "    </table>\n",
    "</center>\n",
    "\n",
    "Con este orden de votación la opción prefreida por el grupo es $x$."
   ]
  },
  {
   "cell_type": "markdown",
   "metadata": {
    "slideshow": {
     "slide_type": "subslide"
    }
   },
   "source": [
    "### Parte c\n",
    "¿Cuál es el problema que presentan estas preferencias cuando se las agrega?"
   ]
  },
  {
   "cell_type": "markdown",
   "metadata": {
    "slideshow": {
     "slide_type": "subslide"
    }
   },
   "source": [
    "Observamos que bajo el primer orden de votación la opción preferida fue $z$ y bajo el segundo orden fue $x$."
   ]
  },
  {
   "cell_type": "markdown",
   "metadata": {
    "slideshow": {
     "slide_type": "fragment"
    }
   },
   "source": [
    "Sin embargo si analizamos el tercer orden de votación descubriremos que la opcion preferida ahora es $y$."
   ]
  },
  {
   "cell_type": "markdown",
   "metadata": {
    "slideshow": {
     "slide_type": "fragment"
    }
   },
   "source": [
    "Es decir: _alterando el orden en el que se vota se puede alterar la opción preferida por el grupo._"
   ]
  },
  {
   "cell_type": "markdown",
   "metadata": {
    "slideshow": {
     "slide_type": "subslide"
    }
   },
   "source": [
    "Este fenómeno es conocido como la [paradoja de Condorcet](https://es.wikipedia.org/wiki/Paradoja_de_Condorcet) e describe una situación en que las preferencias colectivas son cíclicas aunque las preferencias individuales sean transitivas."
   ]
  },
  {
   "cell_type": "markdown",
   "metadata": {
    "cell_style": "split",
    "slideshow": {
     "slide_type": "fragment"
    }
   },
   "source": [
    "Recordemos nuevamente las prefrencias:\n",
    "\n",
    "$$\n",
    "\\text{Agustin} \\qquad : \\quad\n",
    "x \\succ_{a} y \\succ_{a} z\n",
    "$$\n",
    "\n",
    "$$\n",
    "\\text{Bruno} \\qquad : \\quad\n",
    "y \\succ_{b} z \\succ_{b} x\n",
    "$$\n",
    "\n",
    "$$\n",
    "\\text{Carlos} \\qquad : \\quad\n",
    "z \\succ_{c} x \\succ_{c} y\n",
    "$$\n"
   ]
  },
  {
   "cell_type": "markdown",
   "metadata": {
    "cell_style": "split",
    "slideshow": {
     "slide_type": "fragment"
    }
   },
   "source": [
    "Supongamos que se declara ganador la opción $x$. Se puede hacer el argumento de que la opción $z$ es preferida por más personas a la opción $x$ por tanto debeŕia ser la ganadora.\n",
    "\n",
    "Sin embargo, la opción $y$ es preferida por mas personas que la opción $z$, entonces se pudiera usar el mismo argumento para decir que la opcion $y$ realmente debería ser la ganadora.\n",
    "\n",
    "Pero la opción $x$ es preferida por más personas a la opción $y...$"
   ]
  }
 ],
 "metadata": {
  "celltoolbar": "Slideshow",
  "hide_input": false,
  "kernelspec": {
   "display_name": "Python 3",
   "language": "python",
   "name": "python3"
  },
  "language_info": {
   "codemirror_mode": {
    "name": "ipython",
    "version": 3
   },
   "file_extension": ".py",
   "mimetype": "text/x-python",
   "name": "python",
   "nbconvert_exporter": "python",
   "pygments_lexer": "ipython3",
   "version": "3.7.6"
  },
  "toc": {
   "base_numbering": 1,
   "nav_menu": {},
   "number_sections": false,
   "sideBar": true,
   "skip_h1_title": false,
   "title_cell": "Table of Contents",
   "title_sidebar": "Contents",
   "toc_cell": false,
   "toc_position": {},
   "toc_section_display": true,
   "toc_window_display": false
  }
 },
 "nbformat": 4,
 "nbformat_minor": 4
}
